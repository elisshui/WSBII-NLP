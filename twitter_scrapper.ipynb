{
 "cells": [
  {
   "cell_type": "code",
   "execution_count": 121,
   "metadata": {},
   "outputs": [],
   "source": [
    "import snscrape.modules.twitter as sntwitter\n",
    "import pandas as pd\n",
    "import requests\n",
    "import os\n",
    "import json"
   ]
  },
  {
   "cell_type": "code",
   "execution_count": 122,
   "metadata": {},
   "outputs": [],
   "source": [
    "def get_tweets(query, max_num_tweets, curr_coin):\n",
    "    \"\"\" Gets at most max_num_tweets tweets matching query\n",
    "\n",
    "    Args:\n",
    "        query: twitter search query \n",
    "                (info on query: https://developer.twitter.com/en/docs/twitter-api/tweets/search/integrate/build-a-query)\n",
    "        max_num_tweets: maximum number of tweets\n",
    "\n",
    "    Returns: list of tweets and its data (structure of data: https://miro.medium.com/max/1400/1*b7499m8QPju3AH7WUreP2A.png\n",
    "                specifically: {url, date, content, renderedContent, id, user, outlinks, tcooutlinks, replyCount, retweetCount, \n",
    "                likeCount, quoteCount, converstationId, lang, source, media, retweetedTweet, quotedTweet, mentionedUsers})\n",
    "    \"\"\"\n",
    "    tweets_generator = sntwitter.TwitterSearchScraper(query).get_items()\n",
    "\n",
    "    tweets_list = []\n",
    "    for i, tweet in enumerate(tweets_generator):\n",
    "        if i > max_num_tweets: \n",
    "            break\n",
    "        tweets_list.append([curr_coin, tweet.url, tweet.date, tweet.content, tweet.id, tweet.user, tweet.replyCount, \n",
    "                            tweet.retweetCount, tweet.likeCount, tweet.quoteCount, tweet.source])\n",
    "    \n",
    "    return tweets_list"
   ]
  },
  {
   "cell_type": "code",
   "execution_count": 134,
   "metadata": {},
   "outputs": [],
   "source": [
    "def check_spam(all_crypto_df):\n",
    "    spam_score = 0\n",
    "\n",
    "    for i in range (0, len(all_crypto_df)):\n",
    "        if all_crypto_df[\"following\"][i] == 2001 or (all_crypto_df[\"following\"][i] > 2001 and (all_crypto_df[\"following\"][i] > (all_crypto_df[\"followers\"][i] * 1.1))):       \n",
    "            all_crypto_df = all_crypto_df.drop(index = i)\n",
    "    \n",
    "    return all_crypto_df"
   ]
  },
  {
   "cell_type": "code",
   "execution_count": 138,
   "metadata": {},
   "outputs": [],
   "source": [
    "start_date = \"2019-01-01\"\n",
    "end_date = \"2022-10-01\"\n",
    "max_tweets = 100\n",
    "\n",
    "# case insenstive\n",
    "coins = [(\"Bitcoin\", \"BTC\"),\n",
    "        (\"Bitcoin Cash\", \"BCH\"),\n",
    "        (\"Binance Coin\", \"BNB\"),\n",
    "        (\"EOS.IO\", \"EOS\"),\n",
    "        (\"Ethereum Classic\", \"ETC\"),\n",
    "        (\"Ethereum\", \"ETH\"),\n",
    "        (\"Litecoin\", \"LTC\"),\n",
    "        (\"Monero\", \"XMR\"),\n",
    "        (\"TRON\", \"TRX\"),\n",
    "        (\"Stellar\", \"XLM\"),\n",
    "        (\"Cardano\", \"ADA\"),\n",
    "        (\"IOTA\", \"MIOTA\"),\n",
    "        (\"Maker\", \"MKR\"),\n",
    "        (\"Dogecoin\", \"DOGE\")]\n",
    "\n",
    "all_crypto_df = pd.DataFrame() # create dataframe to store tweet data\n",
    "\n",
    "for coin_name, ticker in coins:\n",
    "    search_key = f'{coin_name} OR {ticker}'\n",
    "    sns_tweets = get_tweets(f'{search_key} lang:en since:{start_date} until:{end_date}', max_tweets, ticker) # pass query, max tweets, ticker\n",
    "\n",
    "    crypto_df = pd.DataFrame(sns_tweets, columns=[\"coinTicker\", \"url\", \"date\", \"content\", \"id\", \"user\", \"replyCount\", \"retweetCount\",\n",
    "                                \"likeCount\", \"quoteCount\", \"source\"])\n",
    "    crypto_df.rename(columns={\"id\": \"tweetId\", \"url\": \"tweetUrl\", \"source\": \"machineType\"}, inplace=True)\n",
    "    crypto_df.drop_duplicates(subset=[\"tweetId\"], inplace=True)   \n",
    "\n",
    "    crypto_df[\"username\"] =  crypto_df.apply(lambda e: e[\"user\"].username, axis=1)\n",
    "    crypto_df[\"userId\"] =  crypto_df.apply(lambda e: e[\"user\"].id, axis=1)\n",
    "    crypto_df[\"following\"] =  crypto_df.apply(lambda e: e[\"user\"].friendsCount, axis=1)\n",
    "    crypto_df[\"followers\"] =  crypto_df.apply(lambda e: e[\"user\"].followersCount, axis=1)\n",
    "    \n",
    "    all_crypto_df = crypto_df if len(all_crypto_df) == 0 else all_crypto_df.append(crypto_df) # make one single df\n",
    "\n",
    "all_crypto_df = check_spam(all_crypto_df) # check for spam accounts\n",
    "\n",
    "all_crypto_df.to_csv('tweets.csv')"
   ]
  }
 ],
 "metadata": {
  "kernelspec": {
   "display_name": "Python 3.9.5 64-bit",
   "language": "python",
   "name": "python3"
  },
  "language_info": {
   "codemirror_mode": {
    "name": "ipython",
    "version": 3
   },
   "file_extension": ".py",
   "mimetype": "text/x-python",
   "name": "python",
   "nbconvert_exporter": "python",
   "pygments_lexer": "ipython3",
   "version": "3.9.5"
  },
  "orig_nbformat": 4,
  "vscode": {
   "interpreter": {
    "hash": "099c61ee22483bbd1374bc1b4f9eb88a902daa72d8017615877b6cb3b2629d9c"
   }
  }
 },
 "nbformat": 4,
 "nbformat_minor": 2
}
